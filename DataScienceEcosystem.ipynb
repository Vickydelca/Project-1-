{
 "cells": [
  {
   "cell_type": "markdown",
   "id": "ba7fd507-4762-4d6d-b4e3-f09561ba122e",
   "metadata": {},
   "source": [
    "# Data Science Tools and Ecosystem"
   ]
  },
  {
   "cell_type": "markdown",
   "id": "0a72596e-799e-4105-a360-32c18fe162c0",
   "metadata": {},
   "source": [
    "Some of the popular languages that Data Scientists use are:\n",
    "1) R\n",
    "2) C++\n",
    "3) Phyton\n",
    "   "
   ]
  },
  {
   "cell_type": "markdown",
   "id": "9bff9e26-b3ca-4590-93ea-70a6af49af85",
   "metadata": {},
   "source": [
    "In this Notebook, Data Science Tools and Ecosystem are summarizes "
   ]
  },
  {
   "cell_type": "markdown",
   "id": "ad46b41d-6152-4725-88e6-55208901128f",
   "metadata": {},
   "source": [
    "**Objectives**\n",
    "- List Popular languages for Data Science\n",
    "- List data science libraries\n",
    "- List data science development environment"
   ]
  },
  {
   "cell_type": "markdown",
   "id": "7c8d0cef-789b-4b64-9274-2b395681a25a",
   "metadata": {
    "editable": true,
    "slideshow": {
     "slide_type": ""
    },
    "tags": []
   },
   "source": [
    "Some of the commonly used libraries used by Data Scientists include:\n",
    "1) Pandas\n",
    "2) NumPy\n",
    "3) Matplotlib\n",
    "   "
   ]
  },
  {
   "cell_type": "markdown",
   "id": "235e773f-8c59-413f-bea4-a9c72d097e7c",
   "metadata": {
    "editable": true,
    "raw_mimetype": "",
    "slideshow": {
     "slide_type": ""
    },
    "tags": []
   },
   "source": [
    "| Data Science Tools |\n",
    "|------------------|\n",
    "| PyTorch |\n",
    "| Jupyter Notebook |\n",
    "| ML Flow |\n",
    "\n"
   ]
  },
  {
   "cell_type": "markdown",
   "id": "c25746c2-e52c-4a73-a84a-a2c923013bcf",
   "metadata": {
    "editable": true,
    "slideshow": {
     "slide_type": ""
    },
    "tags": []
   },
   "source": [
    "### Below are a few examples of evaluating arithmetic expressions in Python\n"
   ]
  },
  {
   "cell_type": "markdown",
   "id": "0fc51d55-f453-422a-b163-937cd46e4da8",
   "metadata": {
    "editable": true,
    "slideshow": {
     "slide_type": ""
    },
    "tags": []
   },
   "source": [
    "This a simple aritmetic expression to multiply then add integers \n"
   ]
  },
  {
   "cell_type": "code",
   "execution_count": 8,
   "id": "bff5cab2-9c65-48ed-a517-899c53b59570",
   "metadata": {
    "editable": true,
    "slideshow": {
     "slide_type": ""
    },
    "tags": []
   },
   "outputs": [
    {
     "data": {
      "text/plain": [
       "17"
      ]
     },
     "execution_count": 8,
     "metadata": {},
     "output_type": "execute_result"
    }
   ],
   "source": [
    "(3*4) + 5"
   ]
  },
  {
   "cell_type": "markdown",
   "id": "825e14a9-5346-47b2-a6c4-7b0fe95f8d56",
   "metadata": {
    "editable": true,
    "slideshow": {
     "slide_type": ""
    },
    "tags": []
   },
   "source": [
    "This will convert 200 minutes to hours by diving by 60 "
   ]
  },
  {
   "cell_type": "code",
   "execution_count": 16,
   "id": "543f045e-90cb-46ce-b205-aaa1a18d1562",
   "metadata": {
    "editable": true,
    "slideshow": {
     "slide_type": ""
    },
    "tags": []
   },
   "outputs": [
    {
     "data": {
      "text/plain": [
       "3.3333333333333335"
      ]
     },
     "execution_count": 16,
     "metadata": {},
     "output_type": "execute_result"
    }
   ],
   "source": [
    "200/60"
   ]
  },
  {
   "cell_type": "markdown",
   "id": "b1dfd9a0-5d99-4ce6-a916-b1a72df292e0",
   "metadata": {},
   "source": [
    "## Lakshmi Holla \n",
    "Virginia del Campo "
   ]
  },
  {
   "cell_type": "code",
   "execution_count": null,
   "id": "3161adda-6ebc-4d6f-9456-151b82cab923",
   "metadata": {},
   "outputs": [],
   "source": []
  }
 ],
 "metadata": {
  "kernelspec": {
   "display_name": "anaconda-panel-2023.05-py310",
   "language": "python",
   "name": "conda-env-anaconda-panel-2023.05-py310-py"
  },
  "language_info": {
   "codemirror_mode": {
    "name": "ipython",
    "version": 3
   },
   "file_extension": ".py",
   "mimetype": "text/x-python",
   "name": "python",
   "nbconvert_exporter": "python",
   "pygments_lexer": "ipython3",
   "version": "3.11.5"
  },
  "toc": {
   "base_numbering": 4
  }
 },
 "nbformat": 4,
 "nbformat_minor": 5
}
